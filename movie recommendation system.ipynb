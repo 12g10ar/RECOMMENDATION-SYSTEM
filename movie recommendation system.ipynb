{
 "cells": [
  {
   "cell_type": "code",
   "execution_count": 1,
   "metadata": {},
   "outputs": [
    {
     "name": "stdout",
     "output_type": "stream",
     "text": [
      "Recommended movies for User1: Movie5, Movie3, Movie4, Movie2\n",
      "Recommended movies for User2: Movie1\n",
      "Recommended movies for User3: Movie2, Movie1, Movie4\n"
     ]
    }
   ],
   "source": [
    "import numpy as np\n",
    "from sklearn.metrics.pairwise import cosine_similarity\n",
    "\n",
    "# Sample movie data\n",
    "movies = {\n",
    "    'Movie1': [1, 2, 3, 0, 0],\n",
    "    'Movie2': [0, 1, 0, 4, 5],\n",
    "    'Movie3': [2, 0, 1, 3, 0],\n",
    "    'Movie4': [0, 4, 5, 0, 1],\n",
    "    'Movie5': [3, 0, 2, 0, 4]\n",
    "}\n",
    "\n",
    "# Sample user preferences\n",
    "user_preferences = {\n",
    "    'User1': [5, 4, 0, 0, 0],\n",
    "    'User2': [0, 0, 3, 4, 5],\n",
    "    'User3': [1, 0, 0, 3, 0]\n",
    "}\n",
    "\n",
    "def recommend_movies(user_preferences, movies):\n",
    "    recommendations = {}\n",
    "\n",
    "    for user, preferences in user_preferences.items():\n",
    "        similarity_scores = {}\n",
    "        for movie, ratings in movies.items():\n",
    "            similarity_scores[movie] = cosine_similarity([preferences], [ratings])[0][0]\n",
    "\n",
    "        # Sort movies based on similarity scores in descending order\n",
    "        sorted_movies = sorted(similarity_scores.items(), key=lambda x: x[1], reverse=True)\n",
    "\n",
    "        # Filter out movies the user has already rated\n",
    "        recommendations[user] = [movie for movie, _ in sorted_movies if preferences[movies[movie].index(0)] > 0]\n",
    "\n",
    "    return recommendations\n",
    "\n",
    "if __name__ == \"__main__\":\n",
    "    recommendations = recommend_movies(user_preferences, movies)\n",
    "\n",
    "    for user, recommended_movies in recommendations.items():\n",
    "        print(f\"Recommended movies for {user}: {', '.join(recommended_movies)}\")\n"
   ]
  },
  {
   "cell_type": "code",
   "execution_count": null,
   "metadata": {},
   "outputs": [],
   "source": []
  }
 ],
 "metadata": {
  "kernelspec": {
   "display_name": "Python 3",
   "language": "python",
   "name": "python3"
  },
  "language_info": {
   "codemirror_mode": {
    "name": "ipython",
    "version": 3
   },
   "file_extension": ".py",
   "mimetype": "text/x-python",
   "name": "python",
   "nbconvert_exporter": "python",
   "pygments_lexer": "ipython3",
   "version": "3.7.4"
  }
 },
 "nbformat": 4,
 "nbformat_minor": 2
}
